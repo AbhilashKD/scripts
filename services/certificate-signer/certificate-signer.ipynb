{
 "cells": [
  {
   "cell_type": "code",
   "execution_count": 1,
   "id": "2ccd4a9d",
   "metadata": {},
   "outputs": [],
   "source": [
    "import requests"
   ]
  },
  {
   "cell_type": "code",
   "execution_count": 4,
   "id": "dfa3fe9c",
   "metadata": {
    "tags": [
     "parameters"
    ]
   },
   "outputs": [],
   "source": [
    "host = 'localhost'"
   ]
  },
  {
   "cell_type": "code",
   "execution_count": 5,
   "id": "8dda75b6",
   "metadata": {},
   "outputs": [],
   "source": [
    "assert requests.get('http://%s:4324/health'%host).status_code == 200"
   ]
  },
  {
   "cell_type": "code",
   "execution_count": 6,
   "id": "65983833",
   "metadata": {},
   "outputs": [
    {
     "name": "stdout",
     "output_type": "stream",
     "text": [
      "400\n"
     ]
    }
   ],
   "source": [
    "resp = requests.post('http://%s:4324/verify'%host, '{\"signedCredentials\":{\"issuer\":\"a\"}}')\n",
    "print(resp.status_code)\n",
    "assert resp.status_code == 400 \n",
    "assert resp.content"
   ]
  },
  {
   "cell_type": "code",
   "execution_count": 9,
   "id": "65009b56",
   "metadata": {},
   "outputs": [
    {
     "name": "stdout",
     "output_type": "stream",
     "text": [
      "PASS\n"
     ]
    }
   ],
   "source": [
    "import json\n",
    "creds = json.loads('{\"@context\":[\"https://www.w3.org/2018/credentials/v1\",{\"name\":\"schema:name\"}],\"type\":[\"VerifiableCredential\"],\"credentialSubject\":{\"type\":\"Person\",\"name\":\"Tejash\"},\"issuanceDate\":\"2021-08-27T10:57:57.237Z\",\"issuer\":\"did:authorizedIssuer:23423#21\",\"proof\":{\"type\":\"Ed25519Signature2018\",\"created\":\"2022-07-19T05:11:21Z\",\"verificationMethod\":\"did:authorizedIssuer:23423#21\",\"proofPurpose\":\"assertionMethod\",\"jws\":\"eyJhbGciOiJFZERTQSIsImI2NCI6ZmFsc2UsImNyaXQiOlsiYjY0Il19..O6u5oAOiOeOt4nCHlJRRn04EyOoi7sRZHcJtvRXQqvKxQUfKdYjB9GJunO5pjnErWJC4U7gTctmUq34qrx98Bw\"}}')\n",
    "resp = requests.post('http://%s:4324/verify'%host, json={\"signedCredentials\":creds})\n",
    "assert resp.status_code==200\n",
    "assert resp.json()[\"verified\"]\n",
    "resp.content\n",
    "print(\"PASS\")"
   ]
  },
  {
   "cell_type": "code",
   "execution_count": 15,
   "id": "cb1da5cd",
   "metadata": {},
   "outputs": [],
   "source": [
    "resp = requests.post('http://%s:4324/sign'%host, json={\"signedCredentials\":\"\"})\n",
    "assert resp.status_code == 400"
   ]
  },
  {
   "cell_type": "code",
   "execution_count": 40,
   "id": "6ef0b601",
   "metadata": {},
   "outputs": [],
   "source": [
    "template=\"\"\"{\n",
    "        \"@context\": [\n",
    "            \"https://www.w3.org/2018/credentials/v1\",\n",
    "            {\n",
    "                \"@context\": {\n",
    "                    \"@version\": 1.1,\n",
    "                    \"@protected\": true,\n",
    "                    \"SkillCertificate\": {\n",
    "                        \"@id\": \"https://github.com/sunbird-specs/vc-specs#SkillCertificate\",\n",
    "                        \"@context\": {\n",
    "                            \"id\": \"@id\",\n",
    "                            \"@version\": 1.1,\n",
    "                            \"@protected\": true,\n",
    "                            \"skills\": {\n",
    "                                \"@id\": \"https://github.com/sunbird-specs/vc-specs#skills\",\n",
    "                                \"@container\": \"@list\"\n",
    "                            },\n",
    "                            \"name\":\"schema:Text\",\n",
    "                            \"refId\":\"schema:Text\"\n",
    "                        }\n",
    "                    },\n",
    "                    \n",
    "                    \"trainedOn\": {\n",
    "                        \"@id\": \"https://github.com/sunbird-specs/vc-specs#trainedOn\",\n",
    "                        \"@context\": {\n",
    "                            \"name\": \"schema:Text\"\n",
    "                        }\n",
    "                    }\n",
    "                }\n",
    "            }\n",
    "        ],\n",
    "        \"type\": [\n",
    "            \"VerifiableCredential\",\"SkillCertificate\"\n",
    "        ],\n",
    "        \"credentialSubject\": {\n",
    "            \"type\": \"SkillCertificate\",\n",
    "            \"refId\": \"{{id}}\",\n",
    "            \"name\": \"{{name}}\",\n",
    "            \"skills\": [{{#each skills}}\"{{skill}}\"{{#unless @last}},{{/unless}}{{/each}}]\n",
    "        },\n",
    "        \"issuanceDate\": \"{{date}}\",\n",
    "        \"issuer\": \"did:authorizedIssuer:23423#21\",\n",
    "        \"evidence\": [\n",
    "            {\n",
    "                \"type\": [\n",
    "                    \"Vaccination\"\n",
    "                ],\n",
    "                \"id\": \"https://sunbird.org/id\"\n",
    "            }\n",
    "        ]\n",
    "    }\"\"\""
   ]
  },
  {
   "cell_type": "code",
   "execution_count": 41,
   "id": "a441e4e0",
   "metadata": {},
   "outputs": [],
   "source": [
    "entity = {\n",
    "        \"name\": \"a\",\n",
    "        \"id\": \"123\",\n",
    "        \"skills\": [{\"skill\":\"a\"},{\"skill\":\"b\"}],\n",
    "        \"date\":\"2022-07-01T12:12:00Z\"\n",
    "    }"
   ]
  },
  {
   "cell_type": "code",
   "execution_count": 43,
   "id": "357dbcc1",
   "metadata": {},
   "outputs": [
    {
     "name": "stdout",
     "output_type": "stream",
     "text": [
      "b'{\"@context\":[\"https://www.w3.org/2018/credentials/v1\",{\"@context\":{\"@version\":1.1,\"@protected\":true,\"SkillCertificate\":{\"@id\":\"https://github.com/sunbird-specs/vc-specs#SkillCertificate\",\"@context\":{\"id\":\"@id\",\"@version\":1.1,\"@protected\":true,\"skills\":{\"@id\":\"https://github.com/sunbird-specs/vc-specs#skills\",\"@container\":\"@list\"},\"name\":\"schema:Text\",\"refId\":\"schema:Text\"}},\"trainedOn\":{\"@id\":\"https://github.com/sunbird-specs/vc-specs#trainedOn\",\"@context\":{\"name\":\"schema:Text\"}}}}],\"type\":[\"VerifiableCredential\",\"SkillCertificate\"],\"credentialSubject\":{\"type\":\"SkillCertificate\",\"refId\":\"123\",\"name\":\"a\",\"skills\":[\"a\",\"b\"]},\"issuanceDate\":\"2022-07-01T12:12:00Z\",\"issuer\":\"did:authorizedIssuer:23423#21\",\"evidence\":[{\"type\":[\"Vaccination\"],\"id\":\"https://sunbird.org/id\"}],\"proof\":{\"type\":\"Ed25519Signature2018\",\"created\":\"2022-07-29T06:59:51Z\",\"verificationMethod\":\"did:authorizedIssuer:23423#21\",\"proofPurpose\":\"assertionMethod\",\"jws\":\"eyJhbGciOiJFZERTQSIsImI2NCI6ZmFsc2UsImNyaXQiOlsiYjY0Il19..MgTTHxANDVEjCXF4HHWRsJlOmqJyFjhBu0783g7C-elnSPyHypxkDTbFCJdEku_6ryZbDJTNIrH-ATQ5yu0JBg\"}}'\n"
     ]
    },
    {
     "data": {
      "text/plain": [
       "True"
      ]
     },
     "execution_count": 43,
     "metadata": {},
     "output_type": "execute_result"
    }
   ],
   "source": [
    "resp = requests.post('http://%s:4324/sign'%host, json={\"data\":entity, \"credentialTemplate\":template})\n",
    "print(resp.content)\n",
    "assert resp.status_code == 200\n",
    "resp.json()['proof']['type'] == 'Ed25519Signature2018'"
   ]
  },
  {
   "cell_type": "code",
   "execution_count": 35,
   "id": "233a35bc",
   "metadata": {},
   "outputs": [
    {
     "data": {
      "text/plain": [
       "{'@context': ['https://www.w3.org/2018/credentials/v1',\n",
       "  {'@context': {'@version': 1.1,\n",
       "    '@protected': True,\n",
       "    'SkillCertificate': {'@id': 'https://github.com/sunbird-specs/vc-specs#SkillCertificate',\n",
       "     '@context': {'id': '@id',\n",
       "      '@version': 1.1,\n",
       "      '@protected': True,\n",
       "      'skills': {'@id': 'https://github.com/sunbird-specs/vc-specs#skills',\n",
       "       '@container': '@list'},\n",
       "      'name': 'schema:Text',\n",
       "      'refId': 'schema:Text'}},\n",
       "    'trainedOn': {'@id': 'https://github.com/sunbird-specs/vc-specs#trainedOn',\n",
       "     '@context': {'name': 'schema:Text'}}}}],\n",
       " 'type': ['VerifiableCredential', 'SkillCertificate'],\n",
       " 'credentialSubject': {'type': 'SkillCertificate',\n",
       "  'refId': '123',\n",
       "  'name': 'a',\n",
       "  'skills': ['a', 'b']},\n",
       " 'issuanceDate': '2021-08-27T10:57:57.237Z',\n",
       " 'issuer': 'did:authorizedIssuer:2342233#21',\n",
       " 'evidence': [{'type': ['Vaccination'], 'id': 'https://sunbird.org/id'}],\n",
       " 'proof': {'type': 'RsaSignature2018',\n",
       "  'created': '2022-07-29T06:57:43Z',\n",
       "  'verificationMethod': 'did:authorizedIssuer:2342233#21',\n",
       "  'proofPurpose': 'assertionMethod',\n",
       "  'jws': 'eyJhbGciOiJQUzI1NiIsImI2NCI6ZmFsc2UsImNyaXQiOlsiYjY0Il19..K6BTYkhx1lVVj0QlthpoByTfyt_r1mQXFwjckU9TN6Lt2GCwuW1WOVWbs2UHuABgkrxXKLO3X_f0UnVYD4fxfIddw1S4IllrfXZwfmD6PTER3RivbWgJT9H05xoM9N5sCWVI6AKRiIAMZm8Y4cEHpOsHklZ6qeRccpvBetu8dl2gqm7wLv8dhNVzDrKxDBsBELPUiySRFwM-xsJU-cE2AyTEPnl0QPhNP9KGDXsiAOy6uWPGEkG45npmXCtFe7Q7bsU0akBZzTQ4kBiRLLWLOvCLwfdaOQunfvwS1BtLfB1eFUUCU74DplBJv3ob1syYB7eKuh3cyfdLfVWiwPf4oQ'}}"
      ]
     },
     "execution_count": 35,
     "metadata": {},
     "output_type": "execute_result"
    }
   ],
   "source": [
    "resp.json()"
   ]
  },
  {
   "cell_type": "code",
   "execution_count": 45,
   "id": "22986260",
   "metadata": {},
   "outputs": [],
   "source": [
    "assert resp.json()[\"@context\"][0] == 'https://www.w3.org/2018/credentials/v1'"
   ]
  },
  {
   "cell_type": "code",
   "execution_count": null,
   "id": "83a2e5c2",
   "metadata": {},
   "outputs": [],
   "source": []
  }
 ],
 "metadata": {
  "celltoolbar": "Tags",
  "kernelspec": {
   "display_name": "Python 3 (ipykernel)",
   "language": "python",
   "name": "python3"
  },
  "language_info": {
   "codemirror_mode": {
    "name": "ipython",
    "version": 3
   },
   "file_extension": ".py",
   "mimetype": "text/x-python",
   "name": "python",
   "nbconvert_exporter": "python",
   "pygments_lexer": "ipython3",
   "version": "3.9.13"
  }
 },
 "nbformat": 4,
 "nbformat_minor": 5
}
