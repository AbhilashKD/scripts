{
 "cells": [
  {
   "cell_type": "code",
   "execution_count": 1,
   "id": "2ccd4a9d",
   "metadata": {},
   "outputs": [],
   "source": [
    "import requests"
   ]
  },
  {
   "cell_type": "code",
   "execution_count": 2,
   "id": "dfa3fe9c",
   "metadata": {
    "tags": [
     "parameters"
    ]
   },
   "outputs": [],
   "source": [
    "host = 'localhost'"
   ]
  },
  {
   "cell_type": "code",
   "execution_count": 3,
   "id": "8dda75b6",
   "metadata": {},
   "outputs": [],
   "source": [
    "assert requests.get('http://%s:4324/health'%host).status_code == 200"
   ]
  },
  {
   "cell_type": "code",
   "execution_count": 4,
   "id": "65983833",
   "metadata": {},
   "outputs": [
    {
     "name": "stdout",
     "output_type": "stream",
     "text": [
      "400\n"
     ]
    }
   ],
   "source": [
    "resp = requests.post('http://%s:4324/verify'%host, '{\"signedCredentials\":{\"issuer\":\"a\"}}')\n",
    "print(resp.status_code)\n",
    "assert resp.status_code == 400 \n",
    "assert resp.content"
   ]
  },
  {
   "cell_type": "code",
   "execution_count": 13,
   "id": "65009b56",
   "metadata": {},
   "outputs": [
    {
     "data": {
      "text/plain": [
       "b'{\"verified\":true,\"results\":[{\"proof\":{\"@context\":\"https://w3id.org/security/v2\",\"type\":\"Ed25519Signature2018\",\"created\":\"2022-07-19T05:11:21Z\",\"verificationMethod\":\"did:authorizedIssuer:23423#21\",\"proofPurpose\":\"assertionMethod\",\"jws\":\"eyJhbGciOiJFZERTQSIsImI2NCI6ZmFsc2UsImNyaXQiOlsiYjY0Il19..O6u5oAOiOeOt4nCHlJRRn04EyOoi7sRZHcJtvRXQqvKxQUfKdYjB9GJunO5pjnErWJC4U7gTctmUq34qrx98Bw\"},\"verified\":true,\"purposeResult\":{\"valid\":true,\"controller\":{\"@context\":\"https://w3id.org/security/v2\",\"id\":\"did:authorizedIssuer:23423#21\",\"publicKey\":[{\"@context\":\"https://w3id.org/security/v2\",\"id\":\"did:authorizedIssuer:23423#21\",\"type\":\"Ed25519VerificationKey2018\",\"controller\":\"https://sunbird.org/\",\"publicKeyBase58\":\"DaipNW4xaH2bh1XGNNdqjnSYyru3hLnUgTBSfSvmZ2hi\"}],\"assertionMethod\":[\"did:authorizedIssuer:23423#21\"]}}}]}'"
      ]
     },
     "execution_count": 13,
     "metadata": {},
     "output_type": "execute_result"
    }
   ],
   "source": [
    "import json\n",
    "creds = json.loads('{\"@context\":[\"https://www.w3.org/2018/credentials/v1\",{\"name\":\"schema:name\"}],\"type\":[\"VerifiableCredential\"],\"credentialSubject\":{\"type\":\"Person\",\"name\":\"Tejash\"},\"issuanceDate\":\"2021-08-27T10:57:57.237Z\",\"issuer\":\"did:authorizedIssuer:23423#21\",\"proof\":{\"type\":\"Ed25519Signature2018\",\"created\":\"2022-07-19T05:11:21Z\",\"verificationMethod\":\"did:authorizedIssuer:23423#21\",\"proofPurpose\":\"assertionMethod\",\"jws\":\"eyJhbGciOiJFZERTQSIsImI2NCI6ZmFsc2UsImNyaXQiOlsiYjY0Il19..O6u5oAOiOeOt4nCHlJRRn04EyOoi7sRZHcJtvRXQqvKxQUfKdYjB9GJunO5pjnErWJC4U7gTctmUq34qrx98Bw\"}}')\n",
    "resp = requests.post('http://%s:4324/verify'%host, json={\"signedCredentials\":creds})\n",
    "assert resp.status_code==200\n",
    "assert resp.json()[\"verified\"]\n",
    "resp.content\n"
   ]
  },
  {
   "cell_type": "code",
   "execution_count": 14,
   "id": "dc7239c9",
   "metadata": {},
   "outputs": [
    {
     "name": "stdout",
     "output_type": "stream",
     "text": [
      "PASS\n"
     ]
    }
   ],
   "source": [
    "print(\"PASS\")"
   ]
  },
  {
   "cell_type": "code",
   "execution_count": null,
   "id": "cb1da5cd",
   "metadata": {},
   "outputs": [],
   "source": []
  }
 ],
 "metadata": {
  "celltoolbar": "Tags",
  "kernelspec": {
   "display_name": "Python 3 (ipykernel)",
   "language": "python",
   "name": "python3"
  },
  "language_info": {
   "codemirror_mode": {
    "name": "ipython",
    "version": 3
   },
   "file_extension": ".py",
   "mimetype": "text/x-python",
   "name": "python",
   "nbconvert_exporter": "python",
   "pygments_lexer": "ipython3",
   "version": "3.9.13"
  }
 },
 "nbformat": 4,
 "nbformat_minor": 5
}
