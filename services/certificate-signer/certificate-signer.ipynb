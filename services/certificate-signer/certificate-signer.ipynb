{
 "cells": [
  {
   "cell_type": "code",
   "execution_count": 1,
   "id": "2ccd4a9d",
   "metadata": {},
   "outputs": [],
   "source": [
    "import requests"
   ]
  },
  {
   "cell_type": "code",
   "execution_count": 2,
   "id": "dfa3fe9c",
   "metadata": {
    "tags": [
     "parameters"
    ]
   },
   "outputs": [],
   "source": [
    "host = 'localhost'"
   ]
  },
  {
   "cell_type": "code",
   "execution_count": 3,
   "id": "8dda75b6",
   "metadata": {},
   "outputs": [],
   "source": [
    "assert requests.get('http://%s:4324/health'%host).status_code == 200"
   ]
  },
  {
   "cell_type": "code",
   "execution_count": 4,
   "id": "65983833",
   "metadata": {},
   "outputs": [
    {
     "name": "stdout",
     "output_type": "stream",
     "text": [
      "400\n"
     ]
    }
   ],
   "source": [
    "resp = requests.post('http://%s:4324/verify'%host, '{\"signedCredentials\":{\"issuer\":\"a\"}}')\n",
    "print(resp.status_code)\n",
    "assert resp.status_code == 400 \n",
    "assert resp.content"
   ]
  },
  {
   "cell_type": "code",
   "execution_count": 25,
   "id": "65009b56",
   "metadata": {},
   "outputs": [
    {
     "name": "stdout",
     "output_type": "stream",
     "text": [
      "200 b'{\"verified\":true,\"results\":[{\"proof\":{\"@context\":\"https://w3id.org/security/v2\",\"type\":\"Ed25519Signature2018\",\"created\":\"2022-07-19T05:11:21Z\",\"verificationMethod\":\"did:authorizedIssuer:23423#21\",\"proofPurpose\":\"assertionMethod\",\"jws\":\"eyJhbGciOiJFZERTQSIsImI2NCI6ZmFsc2UsImNyaXQiOlsiYjY0Il19..O6u5oAOiOeOt4nCHlJRRn04EyOoi7sRZHcJtvRXQqvKxQUfKdYjB9GJunO5pjnErWJC4U7gTctmUq34qrx98Bw\"},\"verified\":true,\"purposeResult\":{\"valid\":true,\"controller\":{\"@context\":\"https://w3id.org/security/v2\",\"id\":\"did:authorizedIssuer:23423#21\",\"publicKey\":[{\"@context\":\"https://w3id.org/security/v2\",\"id\":\"did:authorizedIssuer:23423#21\",\"type\":\"Ed25519VerificationKey2018\",\"controller\":\"https://sunbird.org/\",\"publicKeyBase58\":\"DaipNW4xaH2bh1XGNNdqjnSYyru3hLnUgTBSfSvmZ2hi\"}],\"assertionMethod\":[\"did:authorizedIssuer:23423#21\"]}}}]}'\n",
      "PASS\n"
     ]
    }
   ],
   "source": [
    "import json\n",
    "creds = json.loads('{\"@context\":[\"https://www.w3.org/2018/credentials/v1\",{\"name\":\"schema:name\"}],\"type\":[\"VerifiableCredential\"],\"credentialSubject\":{\"type\":\"Person\",\"name\":\"Tejash\"},\"issuanceDate\":\"2021-08-27T10:57:57.237Z\",\"issuer\":\"did:authorizedIssuer:23423#21\",\"proof\":{\"type\":\"Ed25519Signature2018\",\"created\":\"2022-07-19T05:11:21Z\",\"verificationMethod\":\"did:authorizedIssuer:23423#21\",\"proofPurpose\":\"assertionMethod\",\"jws\":\"eyJhbGciOiJFZERTQSIsImI2NCI6ZmFsc2UsImNyaXQiOlsiYjY0Il19..O6u5oAOiOeOt4nCHlJRRn04EyOoi7sRZHcJtvRXQqvKxQUfKdYjB9GJunO5pjnErWJC4U7gTctmUq34qrx98Bw\"}}')\n",
    "resp = requests.post('http://%s:4324/verify'%host, json={\"signedCredentials\":creds})\n",
    "print(resp.status_code, resp.content)\n",
    "assert resp.status_code==200\n",
    "assert resp.json()[\"verified\"]\n",
    "resp.content\n",
    "print(\"PASS\")"
   ]
  },
  {
   "cell_type": "code",
   "execution_count": 67,
   "id": "cb1da5cd",
   "metadata": {},
   "outputs": [],
   "source": [
    "resp = requests.post('http://%s:4324/sign'%host, json={\"signedCredentials\":\"\"})\n",
    "assert resp.status_code == 400"
   ]
  },
  {
   "cell_type": "code",
   "execution_count": 26,
   "id": "25e881eb",
   "metadata": {},
   "outputs": [],
   "source": [
    "template=\"\"\"{\n",
    "        \"@context\": [\n",
    "            \"https://www.w3.org/2018/credentials/v1\",\n",
    "            {\n",
    "                \"@context\": {\n",
    "                    \"@version\": 1.1,\n",
    "                    \"@protected\": true,\n",
    "                    \"SkillCertificate\": {\n",
    "                        \"@id\": \"https://github.com/sunbird-specs/vc-specs#SkillCertificate\",\n",
    "                        \"@context\": {\n",
    "                            \"id\": \"@id\",\n",
    "                            \"@version\": 1.1,\n",
    "                            \"@protected\": true,\n",
    "                            \"skills\": {\n",
    "                                \"@id\": \"https://github.com/sunbird-specs/vc-specs#skills\",\n",
    "                                \"@container\": \"@list\"\n",
    "                            },\n",
    "                            \"name\":\"schema:Text\",\n",
    "                            \"refId\":\"schema:Text\"\n",
    "                        }\n",
    "                    },\n",
    "                    \n",
    "                    \"trainedOn\": {\n",
    "                        \"@id\": \"https://github.com/sunbird-specs/vc-specs#trainedOn\",\n",
    "                        \"@context\": {\n",
    "                            \"name\": \"schema:Text\"\n",
    "                        }\n",
    "                    }\n",
    "                }\n",
    "            }\n",
    "        ],\n",
    "        \"type\": [\n",
    "            \"VerifiableCredential\",\"SkillCertificate\"\n",
    "        ],\n",
    "        \"credentialSubject\": {\n",
    "            \"type\": \"SkillCertificate\",\n",
    "            \"refId\": \"{{id}}\",\n",
    "            \"name\": \"{{name}}\",\n",
    "            \"skills\": [{{#each skills}}\"{{skill}}\"{{#unless @last}},{{/unless}}{{/each}}]\n",
    "        },\n",
    "        \"issuanceDate\": \"{{date}}\",\n",
    "        \"issuer\": \"did:authorizedIssuer:23423#21\",\n",
    "        \"evidence\": [\n",
    "            {\n",
    "                \"type\": [\n",
    "                    \"Vaccination\"\n",
    "                ],\n",
    "                \"id\": \"https://sunbird.org/id\"\n",
    "            }\n",
    "        ]\n",
    "    }\"\"\""
   ]
  },
  {
   "cell_type": "code",
   "execution_count": 27,
   "id": "c58dd5cb",
   "metadata": {},
   "outputs": [],
   "source": [
    "entity = {\n",
    "        \"name\": \"a\",\n",
    "        \"id\": \"123\",\n",
    "        \"skills\": [{\"skill\":\"a\"},{\"skill\":\"b\"}],\n",
    "        \"date\":\"2022-07-01T12:12:00Z\"\n",
    "    }"
   ]
  },
  {
   "cell_type": "code",
   "execution_count": 28,
   "id": "357dbcc1",
   "metadata": {},
   "outputs": [
    {
     "name": "stdout",
     "output_type": "stream",
     "text": [
      "status 200\n",
      "b'{\"@context\":[\"https://www.w3.org/2018/credentials/v1\",{\"@context\":{\"@version\":1.1,\"@protected\":true,\"SkillCertificate\":{\"@id\":\"https://github.com/sunbird-specs/vc-specs#SkillCertificate\",\"@context\":{\"id\":\"@id\",\"@version\":1.1,\"@protected\":true,\"skills\":{\"@id\":\"https://github.com/sunbird-specs/vc-specs#skills\",\"@container\":\"@list\"},\"name\":\"schema:Text\",\"refId\":\"schema:Text\"}},\"trainedOn\":{\"@id\":\"https://github.com/sunbird-specs/vc-specs#trainedOn\",\"@context\":{\"name\":\"schema:Text\"}}}}],\"type\":[\"VerifiableCredential\",\"SkillCertificate\"],\"credentialSubject\":{\"type\":\"SkillCertificate\",\"refId\":\"123\",\"name\":\"a\",\"skills\":[\"a\",\"b\"]},\"issuanceDate\":\"2022-07-01T12:12:00Z\",\"issuer\":\"did:authorizedIssuer:23423#21\",\"evidence\":[{\"type\":[\"Vaccination\"],\"id\":\"https://sunbird.org/id\"}],\"proof\":{\"type\":\"Ed25519Signature2018\",\"created\":\"2022-08-01T06:45:06Z\",\"verificationMethod\":\"did:authorizedIssuer:23423#21\",\"proofPurpose\":\"assertionMethod\",\"jws\":\"eyJhbGciOiJFZERTQSIsImI2NCI6ZmFsc2UsImNyaXQiOlsiYjY0Il19..kojAcA941eXlBKGPdhPoii0csB-A3AnOtkiSqcQBhQYuOZ5FnYVe_uuD14XX2DSNIB1xtyWRIKLLP8wLsQZmDg\"}}'\n"
     ]
    },
    {
     "data": {
      "text/plain": [
       "True"
      ]
     },
     "execution_count": 28,
     "metadata": {},
     "output_type": "execute_result"
    }
   ],
   "source": [
    "resp = requests.post('http://%s:4324/sign'%host, json={\"data\":entity, \"credentialTemplate\":template})\n",
    "print('status', resp.status_code)\n",
    "print(resp.content)\n",
    "assert resp.status_code == 200\n",
    "resp.json()['proof']['type'] == 'Ed25519Signature2018'"
   ]
  },
  {
   "cell_type": "code",
   "execution_count": 72,
   "id": "148bc8f9",
   "metadata": {},
   "outputs": [
    {
     "data": {
      "text/plain": [
       "b'{\"error\": \"Internal Server Error\", \"message\": Dereferencing a URL did not result in a valid JSON-LD object. Possible causes are an inaccessible URL perhaps due to a same-origin policy (ensure the server uses CORS if you are using client-side JavaScript), too many redirects, a non-JSON response, or more than one HTTP Link Header was provided for a remote context.}'"
      ]
     },
     "execution_count": 72,
     "metadata": {},
     "output_type": "execute_result"
    }
   ],
   "source": [
    "resp.content"
   ]
  },
  {
   "cell_type": "code",
   "execution_count": 61,
   "id": "4462874b",
   "metadata": {},
   "outputs": [],
   "source": [
    "assert resp.json()[\"@context\"][0] == 'https://www.w3.org/2018/credentials/v1'"
   ]
  },
  {
   "cell_type": "code",
   "execution_count": null,
   "id": "83a2e5c2",
   "metadata": {},
   "outputs": [],
   "source": []
  }
 ],
 "metadata": {
  "celltoolbar": "Tags",
  "kernelspec": {
   "display_name": "Python 3 (ipykernel)",
   "language": "python",
   "name": "python3"
  },
  "language_info": {
   "codemirror_mode": {
    "name": "ipython",
    "version": 3
   },
   "file_extension": ".py",
   "mimetype": "text/x-python",
   "name": "python",
   "nbconvert_exporter": "python",
   "pygments_lexer": "ipython3",
   "version": "3.9.13"
  }
 },
 "nbformat": 4,
 "nbformat_minor": 5
}
